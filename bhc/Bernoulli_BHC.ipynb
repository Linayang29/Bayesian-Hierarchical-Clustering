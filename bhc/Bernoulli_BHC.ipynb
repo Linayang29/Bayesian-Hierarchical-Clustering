{
 "cells": [
  {
   "cell_type": "code",
   "execution_count": 249,
   "metadata": {
    "collapsed": true
   },
   "outputs": [],
   "source": [
    "import numpy as np\n",
    "import matplotlib.pyplot as plt\n",
    "from scipy.special import gamma\n",
    "from scipy.cluster.hierarchy import dendrogram"
   ]
  },
  {
   "cell_type": "code",
   "execution_count": 326,
   "metadata": {
    "collapsed": true
   },
   "outputs": [],
   "source": [
    "def Bern_gen(nobs, k, theta, seed):\n",
    "    \"\"\"Generate Bernoulli distributed data\"\"\"\n",
    "    np.random.seed(seed)\n",
    "    obs_list = []\n",
    "    for i in range(k):\n",
    "        theta+=0.1\n",
    "        X_i = np.random.binomial(1, theta, nobs)\n",
    "        obs_list.append(X_i)\n",
    "    return np.matrix(obs_list).T"
   ]
  },
  {
   "cell_type": "code",
   "execution_count": 321,
   "metadata": {
    "collapsed": true
   },
   "outputs": [],
   "source": [
    "def prob_DH1(X, α=0.001, β=0.01):\n",
    "    \"\"\"Return marginal likelihood for bernoulli data using the conjugate prior distribution Bernoulli-Beta\n",
    "       @X: N records of data with k columns\n",
    "       @α, β: hyperparmeter for Beta distribution\n",
    "    \"\"\"\n",
    "    md = np.sum(X,axis=0)\n",
    "    N = X.shape[0]\n",
    "    nominator = np.array(gamma(α+β)*gamma(α+md))*np.array(gamma(β+N-md))\n",
    "    denominator = gamma(α)*gamma(β)*gamma(α+β+N)\n",
    "    return np.prod(nominator/denominator)"
   ]
  },
  {
   "cell_type": "code",
   "execution_count": 322,
   "metadata": {
    "collapsed": true
   },
   "outputs": [],
   "source": [
    "def linkage_matrix(X, α = 0.001):\n",
    "    \"\"\"Calculate P(Dk|Tk)\n",
    "       Return linkage_matrix\n",
    "    \"\"\"\n",
    "    linkage_list = []\n",
    "    linkage_list_out = []\n",
    "    nk = 2\n",
    "    maximum = 0.01\n",
    "    dim = X.copy().shape[0]\n",
    "    merge_dim = X.shape[0]\n",
    "    obs_list = [i for i in range(1,dim+1)]\n",
    "    while (nk < dim and maximum !=0):\n",
    "        maximum = 0\n",
    "        for i in obs_list:\n",
    "            for j in obs_list:\n",
    "                if (j>i):\n",
    "                    if (i<=dim and j<=dim):\n",
    "                        s, w = i-1, j-1\n",
    "                        nk = 2\n",
    "                        prob_DTi, prob_DTj = prob_DH1(X[s]), prob_DH1(X[w])\n",
    "                        di, dj = α, α\n",
    "                    elif (i<=dim and j>dim):\n",
    "                        s = i-1\n",
    "                        w = np.array(linkage_list[j-dim-1][:2]) - 1\n",
    "                        nk = linkage_list[j-dim-1][3] + 1\n",
    "                        prob_DTi, prob_DTj = prob_DH1(X[s]), linkage_list[j-dim-1][4]\n",
    "                        di, dj = α, linkage_list[j-dim-1][5]\n",
    "                    elif (i>dim and j>dim):\n",
    "                        s = np.array(linkage_list[i-dim-1][:2])-1\n",
    "                        w = np.array(linkage_list[j-dim-1][:2])-1\n",
    "                        nk = linkage_list[i-dim-1][3] + linkage_list[j-dim-1][3]                        \n",
    "                        prob_DTi, prob_DTj = linkage_list[i-dim-1][4], linkage_list[j-dim-1][4]\n",
    "                        di, dj = linkage_list[i-dim-1][5], linkage_list[j-dim-1][5]\n",
    "                                            \n",
    "                    Dk_tmp = np.vstack((X[s],X[w]))\n",
    "\n",
    "                    dk = α*gamma(nk)+di*dj\n",
    "\n",
    "                    pik = α*gamma(nk)/dk\n",
    "                    prob_DT = prob_DH1(Dk_tmp)*pik + prob_DTi * prob_DTj * di * dj / dk\n",
    "\n",
    "                    rk = pik*prob_DH1(Dk_tmp)/prob_DT\n",
    "                    if (rk > maximum):\n",
    "                        maximum = rk\n",
    "                        merge_i = i\n",
    "                        merge_j = j\n",
    "                        merge_prob_DTi = prob_DT.copy()\n",
    "                        merge_Dk = Dk_tmp.copy()\n",
    "                        merge_dk = dk\n",
    "        if (maximum ==0):\n",
    "            break\n",
    "        merge_dim+=1\n",
    "        obs_list.append(merge_dim)\n",
    "        if (merge_i) in obs_list: obs_list.remove(merge_i)    #remove merged observations' idx from list\n",
    "        if (merge_j) in obs_list: obs_list.remove(merge_j)    \n",
    "        \n",
    "        X = np.vstack((X,merge_Dk))\n",
    "        nk = merge_Dk.shape[0]\n",
    "        linkage_list.append([merge_i, merge_j, np.log(maximum/(1-maximum)), nk, merge_prob_DTi, merge_dk])\n",
    "        linkage_list_out.append([merge_i-1, merge_j-1, np.log(maximum/(1-maximum)), nk])\n",
    "\n",
    "    return (linkage_list_out)\n",
    "            "
   ]
  },
  {
   "cell_type": "code",
   "execution_count": 328,
   "metadata": {
    "collapsed": false
   },
   "outputs": [],
   "source": [
    "X_test = Bern_gen(20, 5, 0.3, 131)"
   ]
  },
  {
   "cell_type": "code",
   "execution_count": 329,
   "metadata": {
    "collapsed": false
   },
   "outputs": [],
   "source": [
    "ttt = linkage_matrix(X=X_test)"
   ]
  },
  {
   "cell_type": "code",
   "execution_count": 330,
   "metadata": {
    "collapsed": false
   },
   "outputs": [
    {
     "data": {
      "image/png": "[encoded data removed]",
      "text/plain": [
       "<matplotlib.figure.Figure at 0x112208908>"
      ]
     },
     "metadata": {},
     "output_type": "display_data"
    }
   ],
   "source": [
    "#ttt, colorb = linkage_matrix(X=X_test[:10])\n",
    "N = X_test.shape[0]\n",
    "Z1 = np.array(ttt)\n",
    "Z1[:,2] = 1/Z1[:,2]\n",
    "maxw = max(Z1[:,2])\n",
    "Z1[Z1[:,2] < 0,2] = 2*maxw\n",
    "for i in range(Z1.shape[0]):\n",
    "    if Z1[i, 0] > (N-1):\n",
    "        Z1[i, 2] += Z1[Z1[i, 0].astype(\"int\")-N, 2]\n",
    "    if Z1[i,1] > (N-1):\n",
    "        Z1[i,2] += Z1[Z1[i,1].astype(\"int\")-N, 2]\n",
    "\n",
    "dendrogram(Z1)\n",
    "plt.show()\n"
   ]
  },
  {
   "cell_type": "code",
   "execution_count": null,
   "metadata": {
    "collapsed": true
   },
   "outputs": [],
   "source": []
  }
 ],
 "metadata": {
  "kernelspec": {
   "display_name": "Python [conda root]",
   "language": "python",
   "name": "conda-root-py"
  },
  "language_info": {
   "codemirror_mode": {
    "name": "ipython",
    "version": 3
   },
   "file_extension": ".py",
   "mimetype": "text/x-python",
   "name": "python",
   "nbconvert_exporter": "python",
   "pygments_lexer": "ipython3",
   "version": "3.5.2"
  }
 },
 "nbformat": 4,
 "nbformat_minor": 1
}
