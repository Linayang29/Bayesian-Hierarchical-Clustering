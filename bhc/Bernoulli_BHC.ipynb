{
 "cells": [
  {
   "cell_type": "code",
   "execution_count": 1,
   "metadata": {
    "collapsed": true
   },
   "outputs": [],
   "source": [
    "import numpy as np\n",
    "from scipy.special import gamma\n",
    "import matplotlib.pyplot as plt"
   ]
  },
  {
   "cell_type": "code",
   "execution_count": 4,
   "metadata": {
    "collapsed": true
   },
   "outputs": [],
   "source": [
    "# Simulate data\n",
    "def Bern_gen(nobs, k, theta, seed):\n",
    "    np.random.seed(seed)\n",
    "    obs_list = []\n",
    "    for i in range(k):\n",
    "        X_i = np.random.binomial(1, theta, nobs)\n",
    "        obs_list.append(X_i)\n",
    "    return np.matrix(obs_list).T"
   ]
  },
  {
   "cell_type": "code",
   "execution_count": 15,
   "metadata": {
    "collapsed": true
   },
   "outputs": [],
   "source": [
    "def prob_DH1(X, α=0.001, β=0.01):\n",
    "    \"\"\"Return marginal likelihood for bernoulli data using the conjugate prior distribution Bernoulli-Beta\n",
    "       @X: N records of data with k columns\n",
    "       @α, β: hyperparmeter for Beta distribution\n",
    "    \"\"\"\n",
    "    md = np.sum(X,axis=0)\n",
    "    N = X.shape[0]\n",
    "    nominator = np.array(gamma(α+β)*gamma(α+md))*np.array(gamma(β+N-md))\n",
    "    denominator = gamma(α)*gamma(β)*gamma(α+β+N)\n",
    "    return np.prod(nominator/denominator)"
   ]
  },
  {
   "cell_type": "code",
   "execution_count": 62,
   "metadata": {
    "collapsed": true
   },
   "outputs": [],
   "source": [
    "def linkage_matrix(X, α = 0.001):\n",
    "    \"\"\"Find two nodes that have highest probability to merge\"\"\"\n",
    "    linkage_list = []\n",
    "    maximum = 0.6\n",
    "    dim = X.copy().shape[0]\n",
    "    merge_dim = X.shape[0]\n",
    "    obs_list = [i for i in range(1,dim+1)]\n",
    "    while (maximum > 0.5):\n",
    "        for i in obs_list:\n",
    "            for j in obs_list:\n",
    "                if (j>i):\n",
    "                    if (i<=dim and j<=dim):\n",
    "                        s, w = i-1, j-1\n",
    "                        nk = 2\n",
    "                        prob_DTi, prob_DTj = prob_DH1(X[s]), prob_DH1(X[w])\n",
    "                        di, dj = α, α\n",
    "                    elif (i<=dim and j>dim):\n",
    "                        s = i-1\n",
    "                        w = np.array(linkage_list[j-dim-1][:2]) - 1\n",
    "                        nk = linkage_list[j-dim-1][3] + 1\n",
    "                        prob_DTi, prob_DTj = prob_DH1(X[s]), linkage_list[j-dim-1][4]\n",
    "                        di, dj = α, linkage_list[j-dim-1][5]\n",
    "                    elif (i>dim and j>dim):\n",
    "                        s = np.array(linkage_list[i-dim-1][:2])-1\n",
    "                        w = np.array(linkage_list[j-dim-1][:2])-1\n",
    "                        nk = linkage_list[i-dim-1][3] + linkage_list[j-dim-1][3]                        \n",
    "                        prob_DTi, prob_DTj = linkage_list[i-dim-1][4], linkage_list[j-dim-1][4]\n",
    "                        di, dj = linkage_list[i-dim-1][5], linkage_list[j-dim-1][5]\n",
    "                                            \n",
    "                    Dk_tmp = np.vstack((X[s],X[w]))\n",
    "\n",
    "                    dk = α*gamma(nk)+di*dj\n",
    "\n",
    "                    pik = α*gamma(nk)/dk\n",
    "                    prob_DT = prob_DH1(Dk_tmp)*pik + prob_DTi * prob_DTj * di * dj / dk\n",
    "\n",
    "                    rk = pik*prob_DH1(Dk_tmp)/prob_DT\n",
    "\n",
    "                    if (rk > maximum):\n",
    "                        maximum = rk\n",
    "                        merge_i = i\n",
    "                        merge_j = j\n",
    "                        merge_prob_DTi = prob_DT.copy()\n",
    "                        merge_Dk = Dk_tmp.copy()\n",
    "                        merge_dk = dk\n",
    "        \n",
    "        #print (maximum, rk)\n",
    "        merge_dim+=1\n",
    "        obs_list.append(merge_dim)\n",
    "        if (merge_i) in obs_list: obs_list.remove(merge_i)    #remove merged observations' idx from list\n",
    "        if (merge_j) in obs_list: obs_list.remove(merge_j)    \n",
    "        \n",
    "        X = np.vstack((X,merge_Dk))\n",
    "        nk = merge_Dk.shape[0]\n",
    "        \n",
    "        linkage_list.append([merge_i, merge_j, np.log(maximum/(1-maximum)), nk, merge_prob_DTi, merge_dk])\n",
    "    return (linkage_list)\n",
    "            "
   ]
  },
  {
   "cell_type": "code",
   "execution_count": 63,
   "metadata": {
    "collapsed": false
   },
   "outputs": [],
   "source": [
    "X_test = Bern_gen(20, 10, 0.3, 125)"
   ]
  },
  {
   "cell_type": "code",
   "execution_count": null,
   "metadata": {
    "collapsed": false
   },
   "outputs": [],
   "source": [
    "linkage_matrix(X=X_test)"
   ]
  },
  {
   "cell_type": "code",
   "execution_count": null,
   "metadata": {
    "collapsed": true
   },
   "outputs": [],
   "source": []
  }
 ],
 "metadata": {
  "kernelspec": {
   "display_name": "Python [conda root]",
   "language": "python",
   "name": "conda-root-py"
  },
  "language_info": {
   "codemirror_mode": {
    "name": "ipython",
    "version": 3
   },
   "file_extension": ".py",
   "mimetype": "text/x-python",
   "name": "python",
   "nbconvert_exporter": "python",
   "pygments_lexer": "ipython3",
   "version": "3.5.2"
  }
 },
 "nbformat": 4,
 "nbformat_minor": 1
}
