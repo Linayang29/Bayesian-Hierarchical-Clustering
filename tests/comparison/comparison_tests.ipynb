{
 "cells": [
  {
   "cell_type": "code",
   "execution_count": 1,
   "metadata": {
    "collapsed": true
   },
   "outputs": [],
   "source": [
    "import bhc\n",
    "import numpy as np\n",
    "import matplotlib.pyplot as plt\n",
    "from scipy.special import gamma\n",
    "from scipy.cluster.hierarchy import dendrogram, linkage"
   ]
  },
  {
   "cell_type": "code",
   "execution_count": 2,
   "metadata": {
    "collapsed": true
   },
   "outputs": [],
   "source": [
    "def Bern_gen(nobs, k, theta, seed):\n",
    "    \"\"\"Generate Bernoulli distributed data\"\"\"\n",
    "    np.random.seed(seed)\n",
    "    obs_list = []\n",
    "    theta_list = (np.repeat(theta,nobs))\n",
    "    theta_list[:int(nobs/3)] = np.repeat(theta-0.3, int(nobs/3))\n",
    "    theta_list[-int(nobs/3):] = np.repeat(theta+0.3, int(nobs/3))\n",
    "    for i in range(nobs):\n",
    "        X_i = np.random.binomial(1, theta_list[i], k)\n",
    "        obs_list.append(X_i)\n",
    "    return np.matrix(obs_list)\n",
    "\n",
    "X_test = Bern_gen(30, 10, 0.5, 121)\n",
    "y_test = []\n",
    "for i in ['A','B','C']:\n",
    "    y_test.extend(np.repeat(i,10))\n"
   ]
  },
  {
   "cell_type": "code",
   "execution_count": 3,
   "metadata": {
    "collapsed": true
   },
   "outputs": [],
   "source": [
    "def purity_score(linkage_matrix, X_test, y_test, leaf1, leaf2):\n",
    "    \"\"\"Compute the expected dendrogram purity.\n",
    "    Sample a leaf uniformly at random. Then sample another leaf from the same\n",
    "    true class uniformly at random. Find their lowest common ancestor in the\n",
    "    tree and compute purity with respect to that class. (This is one of the\n",
    "    evaluations used in the Bayesian Hierarchical Clustering paper).\n",
    "    Args:\n",
    "      root - the root with respect to which we compute purity.\n",
    "    Returns:\n",
    "      A float [0, 1] that represents expected dendrogram purity.\n",
    "    \"\"\"   \n",
    "    \n",
    "    N = X_test.shape[0]\n",
    "    LL = [[item] for item in range(N)]\n",
    "    for j in range(linkage_matrix.shape[0]):\n",
    "        p, q = int(linkage_matrix[j][0]), int(linkage_matrix[j][1])\n",
    "        LL.append(LL[p]+LL[q])\n",
    "    common_ancestor = [item for item in LL if leaf1 in item and leaf2 in item][0]\n",
    "    predict_label = np.array(y_test)[common_ancestor]\n",
    "    return sum(predict_label==y_test[leaf1-1])/ len(predict_label)"
   ]
  },
  {
   "cell_type": "code",
   "execution_count": 4,
   "metadata": {
    "collapsed": true
   },
   "outputs": [],
   "source": [
    "def purity_score(linkage_matrix, y_test, class_test, repeats, seed):\n",
    "    \n",
    "    \"\"\"Compute the expected dendrogram purity.\n",
    "    Sample a leaf uniformly at random. Then sample another leaf from the same\n",
    "    true class uniformly at random. Find their lowest common ancestor in the\n",
    "    tree and compute purity with respect to that class. \n",
    "    return purity_score\n",
    "    \"\"\"   \n",
    "    np.random.seed(seed)\n",
    "    purity = 0\n",
    "    N = len(y_test)\n",
    "\n",
    "    for i in range(repeats):\n",
    "        leaf1, leaf2 = np.random.choice(np.arange(N)[np.array(y_test)==class_test], size=2, replace=None)\n",
    "\n",
    "        LL = [[item] for item in range(N)]\n",
    "        for j in range(linkage_matrix.shape[0]):\n",
    "            p, q = int(linkage_matrix[j][0]), int(linkage_matrix[j][1])\n",
    "            LL.append(LL[p]+LL[q])\n",
    "        common_ancestor = [item for item in LL if leaf1 in item and leaf2 in item][0]\n",
    "        predict_label = np.array(y_test)[common_ancestor]\n",
    "\n",
    "        purity += sum(predict_label==y_test[leaf1]) / len(predict_label)\n",
    "    \n",
    "    \n",
    "    return purity / repeats"
   ]
  },
  {
   "cell_type": "code",
   "execution_count": 7,
   "metadata": {
    "collapsed": false
   },
   "outputs": [
    {
     "name": "stdout",
     "output_type": "stream",
     "text": [
      "BHC_test: 0.961818181818 0.351973951974 0.385566137566\n",
      "Single_linkage: 0.794222222222 0.309904761905 0.907692307692\n",
      "Complete_linkage: 0.829120879121 0.380952380952 0.661008403361\n",
      "Average_linkage: 0.755303030303 0.368421052632 0.805\n"
     ]
    }
   ],
   "source": [
    "BHC_test = np.array(bhc.bhclust_BB(X_test)[0])\n",
    "single_test = linkage(X_test,method='single')\n",
    "complete_test = linkage(X_test,method='complete')\n",
    "average_test = linkage(X_test,method='average')\n",
    "\n",
    "print(\"BHC_test:\", purity_score(BHC_test, y_test, 'A', 5, 12), purity_score(BHC_test, y_test, 'B', 5, 12), purity_score(BHC_test, y_test, 'C', 5, 12))\n",
    "print(\"Single_linkage:\", purity_score(single_test, y_test, 'A', 5, 12), purity_score(single_test, y_test, 'B', 5, 12), purity_score(single_test, y_test, 'C', 5, 12))\n",
    "print(\"Complete_linkage:\", purity_score(complete_test, y_test, 'A', 5, 12), purity_score(complete_test, y_test, 'B', 5, 12), purity_score(complete_test, y_test, 'C', 5, 12))\n",
    "print(\"Average_linkage:\", purity_score(average_test, y_test, 'A', 5, 12), purity_score(average_test, y_test, 'B', 5, 12), purity_score(average_test, y_test, 'C', 5, 12))"
   ]
  },
  {
   "cell_type": "code",
   "execution_count": null,
   "metadata": {
    "collapsed": true
   },
   "outputs": [],
   "source": []
  }
 ],
 "metadata": {
  "anaconda-cloud": {},
  "kernelspec": {
   "display_name": "Python [conda root]",
   "language": "python",
   "name": "conda-root-py"
  },
  "language_info": {
   "codemirror_mode": {
    "name": "ipython",
    "version": 3
   },
   "file_extension": ".py",
   "mimetype": "text/x-python",
   "name": "python",
   "nbconvert_exporter": "python",
   "pygments_lexer": "ipython3",
   "version": "3.5.2"
  }
 },
 "nbformat": 4,
 "nbformat_minor": 1
}
